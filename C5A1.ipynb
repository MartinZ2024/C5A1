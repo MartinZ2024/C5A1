{
 "cells": [
  {
   "cell_type": "markdown",
   "metadata": {},
   "source": [
    "1.\tCalculadora Simple: Crea un programa que solicite al usuario dos números y una operación (suma, resta, multiplicación o división). Luego, utilizando estructuras condicionales (if, elif, else), realiza la operación seleccionada e imprime el resultado"
   ]
  },
  {
   "cell_type": "code",
   "execution_count": null,
   "metadata": {},
   "outputs": [],
   "source": [
    "num1=int(input(print(\"Ingrese un número:\")))\n",
    "num2=int(input(print(\"Ingrese otro número:\")))\n",
    "print(\"Ingrese una operación\\n Suma:s\\n Resta:r\\n Multiplicación:m\\n División:d\\n\")\n",
    "op=(input())\n",
    "\n",
    "if op=='s':\n",
    "    print(\"La suma de:\",num1,\"mas\",num2,\"es:\",num1+num2 )\n",
    "elif op=='r':\n",
    "    print(\"La resta de:\",num1,\"menos\",num2,\"es:\",num1-num2 )\n",
    "elif op=='m':\n",
    "    print(\"La multiplicacion entre:\",num1,\"y\",num2,\"es:\",num1*num2 )\n",
    "elif op=='d':\n",
    "    print(\"La división entre:\",num1,\"y\",num2,\"es:\",num1/num2 )\n",
    "else:\n",
    "    print(\"No se eligió ninguna operación\")"
   ]
  },
  {
   "cell_type": "markdown",
   "metadata": {},
   "source": [
    "2.\tContador de Números Pares e Impares: Escribe un programa que recorra una lista de números del 1 al 20. Utilizando un bucle for, determina cuántos de estos números son pares y cuántos son impares. Al final, imprime la cantidad de números pares e impares."
   ]
  },
  {
   "cell_type": "code",
   "execution_count": null,
   "metadata": {},
   "outputs": [],
   "source": [
    "contpar=0\n",
    "contimpar=0\n",
    "for n in range(1,21):\n",
    "    if n%2==0:\n",
    "        contpar=contpar+1\n",
    "    else:\n",
    "        contimpar=contimpar+1\n",
    "print(\"La cantidad de par es:\",contpar)\n",
    "print(\"La cantidad de impar es:\",contimpar)\n"
   ]
  },
  {
   "cell_type": "markdown",
   "metadata": {},
   "source": [
    "3.\tValidación de Contraseña: Pide al usuario que ingrese una contraseña. Utiliza un bucle while para seguir solicitando la contraseña hasta que coincida con una contraseña predefinida (por ejemplo, \"python123\"). Muestra un mensaje de éxito cuando la contraseña es correcta."
   ]
  },
  {
   "cell_type": "code",
   "execution_count": null,
   "metadata": {},
   "outputs": [],
   "source": [
    "cs=input(print(\"Ingrese la contraseña:\"))\n",
    "csval=\"python123\"\n",
    "while cs!=csval:\n",
    "    print(\"La contraseña ingresada es inválida\")\n",
    "    cs=input(print(\"Ingrese la contraseña nuevamente:\"))\n",
    "print(\"Su contraseña ha sido ingresada existosamente!!!\")"
   ]
  },
  {
   "cell_type": "markdown",
   "metadata": {},
   "source": [
    "4.\tIdentificador de Números Primos: Crea un programa que solicite al usuario un número entero. Utilizando un bucle for, verifica si el número es primo (es decir, solo divisible por 1 y por sí mismo). Imprime un mensaje indicando si el número es primo o no."
   ]
  },
  {
   "cell_type": "code",
   "execution_count": null,
   "metadata": {},
   "outputs": [],
   "source": [
    "num=int(input(print(\"Ingrese un número entero mayor a 1:\")))\n",
    "nronp=0 #numero no primo\n",
    "#recorrer desde el 2 al numero ingresado menos 1.\n",
    "#exculyo el 1 y el numero ingresado ya que es la condición para ser primo\n",
    "for n in range(2,num):\n",
    "    resto=num%n\n",
    "    if resto==0:\n",
    "        nronp=1\n",
    "     \n",
    "if nronp==1:\n",
    "    print(\"El numero:\",num,\"NO es primo\")\n",
    "else:\n",
    "    print(\"El numero:\",num,\"ES primo\")\n"
   ]
  },
  {
   "cell_type": "markdown",
   "metadata": {},
   "source": [
    "5.\tJuego de Adivinanza: Genera un número aleatorio entre 1 y 50. Pide al usuario que adivine el número. Utiliza un bucle while para permitir múltiples intentos. Da pistas al usuario si el número ingresado es demasiado alto o bajo. Finaliza el juego cuando el usuario adivine correctamente."
   ]
  },
  {
   "cell_type": "code",
   "execution_count": null,
   "metadata": {},
   "outputs": [],
   "source": [
    "import random\n",
    "na=random.randint(1,50)\n",
    "print(\"Adivina el numero secreto entre 1 y 50\")\n",
    "print(\"Introduce el número:\")\n",
    "num=int(input())\n",
    "while num!=na:\n",
    "    if num> na:\n",
    "        print(\"El numero ingresado\",num,\"es mayor al numero secreto\\n Intenta nuevamente con un numero menor\")\n",
    "        num=int(input())\n",
    "    else:\n",
    "        print(\"El numero ingresado\",num,\"es menor al numero secreto\\n Intenta nuevamente con un numero mayor\")\n",
    "        num=int(input())    \n",
    "print(\"Felicidades ha adivinado el número secreto\")\n",
    "\n"
   ]
  },
  {
   "cell_type": "markdown",
   "metadata": {},
   "source": [
    "6.\tTabla de Multiplicar: Pide al usuario que ingrese un número entero. Utiliza un bucle for para imprimir la tabla de multiplicar de ese número del 1 al 10. Por ejemplo, si el usuario ingresa 7, el programa debe imprimir:"
   ]
  },
  {
   "cell_type": "code",
   "execution_count": null,
   "metadata": {},
   "outputs": [],
   "source": [
    "num=int(input(print(\"Ingresa un numero:\")))\n",
    "print(\"Tabla del:\",num)\n",
    "for n in range(1,11):\n",
    "    print(n*num)\n"
   ]
  }
 ],
 "metadata": {
  "kernelspec": {
   "display_name": "Python 3",
   "language": "python",
   "name": "python3"
  },
  "language_info": {
   "codemirror_mode": {
    "name": "ipython",
    "version": 3
   },
   "file_extension": ".py",
   "mimetype": "text/x-python",
   "name": "python",
   "nbconvert_exporter": "python",
   "pygments_lexer": "ipython3",
   "version": "3.11.5"
  }
 },
 "nbformat": 4,
 "nbformat_minor": 2
}
